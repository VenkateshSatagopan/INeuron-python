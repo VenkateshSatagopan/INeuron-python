{
  "nbformat": 4,
  "nbformat_minor": 0,
  "metadata": {
    "colab": {
      "name": "Untitled20.ipynb",
      "provenance": []
    },
    "kernelspec": {
      "name": "python3",
      "display_name": "Python 3"
    }
  },
  "cells": [
    {
      "cell_type": "markdown",
      "metadata": {
        "id": "0Jw9RmPmfQTA",
        "colab_type": "text"
      },
      "source": [
        "# Write a function to compute 5/0 and use try/except to catch the exceptions"
      ]
    },
    {
      "cell_type": "code",
      "metadata": {
        "id": "wwkt4FWifHZ1",
        "colab_type": "code",
        "colab": {}
      },
      "source": [
        "def ComputeException(input_1=None,input_2=None):\n",
        "  if input_1==None:\n",
        "    print('Please provide proper value for input_1')\n",
        "  elif input_2==None:\n",
        "     print('Please provide proper value for input_2')\n",
        "  elif input_1==None and input_2==None:\n",
        "    print('Please provide proper value for input_1 and input_2')\n",
        "  else:\n",
        "    try:\n",
        "      result=input_1/input_2\n",
        "      print(result)\n",
        "    except Exception as e:\n",
        "      #print(dir(e))\n",
        "      print('The error is {}'.format(e)) \n",
        "      #print(e.with_traceback)\n",
        "\n",
        "  \n"
      ],
      "execution_count": 0,
      "outputs": []
    },
    {
      "cell_type": "code",
      "metadata": {
        "id": "UiQsxvqghgY0",
        "colab_type": "code",
        "colab": {
          "base_uri": "https://localhost:8080/",
          "height": 34
        },
        "outputId": "a3b2a4f1-67f4-4fc3-862e-f0848de8bd41"
      },
      "source": [
        "ComputeException(5,0)"
      ],
      "execution_count": 27,
      "outputs": [
        {
          "output_type": "stream",
          "text": [
            "The error is division by zero\n"
          ],
          "name": "stdout"
        }
      ]
    },
    {
      "cell_type": "markdown",
      "metadata": {
        "id": "D2vy52vxkRQp",
        "colab_type": "text"
      },
      "source": [
        "# Implement a Python program to generate all sentences where subject is in \n",
        "\n",
        "[\"Americans\",\n",
        "\"Indians\"] and verb is in [\"Play\", \"watch\"] and the object is in [\"Baseball\",\"cricket\"].\n",
        "\n",
        "\n",
        "subjects=[\"Americans \",\"Indians\"]\n",
        "\n",
        "verbs=[\"play\",\"watch\"]\n",
        "\n",
        "objects=[\"Baseball\",\"Cricket\"]\n",
        "\n",
        "Output should come as below:\n",
        "\n",
        "Americans play Baseball.\n",
        "\n",
        "Americans play Cricket.\n",
        "\n",
        "Americans watch Baseball.\n",
        "\n",
        "Americans watch Cricket.\n",
        "\n",
        "Indians play Baseball.\n",
        "\n",
        "Indians play Cricket.\n",
        "\n",
        "Indians watch Baseball.\n",
        "\n",
        "Indians watch Cricket."
      ]
    },
    {
      "cell_type": "code",
      "metadata": {
        "id": "KhxeXkwdhq7s",
        "colab_type": "code",
        "colab": {}
      },
      "source": [
        "def CreateCombination(subject_val=None,verb_val=None,object_val=None):\n",
        "  if subject_val==None or verb_val==None or object_val==None:\n",
        "    print('please enter proper values for subject,verb and object')\n",
        "  else:\n",
        "    for s in subject_val:\n",
        "      for v in verb_val:\n",
        "        for o in object_val:\n",
        "           print(s,v,o)"
      ],
      "execution_count": 0,
      "outputs": []
    },
    {
      "cell_type": "code",
      "metadata": {
        "id": "V85e9t-klZKY",
        "colab_type": "code",
        "colab": {
          "base_uri": "https://localhost:8080/",
          "height": 153
        },
        "outputId": "71e8de26-6439-40eb-eff9-746e2d28f465"
      },
      "source": [
        "subjects=[\"Americans \",\"Indians\"]\n",
        "verbs=[\"play\",\"watch\"]\n",
        "objects=[\"Baseball\",\"Cricket\"]\n",
        "CreateCombination(subject_val=subjects,verb_val=verbs,object_val=objects)"
      ],
      "execution_count": 41,
      "outputs": [
        {
          "output_type": "stream",
          "text": [
            "Americans  play Baseball\n",
            "Americans  play Cricket\n",
            "Americans  watch Baseball\n",
            "Americans  watch Cricket\n",
            "Indians play Baseball\n",
            "Indians play Cricket\n",
            "Indians watch Baseball\n",
            "Indians watch Cricket\n"
          ],
          "name": "stdout"
        }
      ]
    },
    {
      "cell_type": "markdown",
      "metadata": {
        "id": "aTeQdjsiptzs",
        "colab_type": "text"
      },
      "source": [
        "Write a function so that the columns of the output matrix are powers of the input vector.\n",
        "The order of the powers is determined by the increasing boolean argument. Specifically, when\n",
        "increasing is False, the i-th output column is the input vector raised element-wise to the power\n",
        "of N - i - 1."
      ]
    },
    {
      "cell_type": "code",
      "metadata": {
        "id": "6BpC5awulqlZ",
        "colab_type": "code",
        "colab": {}
      },
      "source": [
        "import numpy as np\n",
        "def CreateVanderMatrix(input_val=None,N=None):\n",
        "   val=np.zeros((N,len(input_val)))\n",
        "   #print(len(input_val))\n",
        "   for i in range(val.shape[0]):\n",
        "      for j in range(val.shape[1]):\n",
        "         val[i,j]=input_val[j]**i\n",
        "   output_temp=val.T\n",
        "   print(output_temp[:,::-1])"
      ],
      "execution_count": 0,
      "outputs": []
    },
    {
      "cell_type": "code",
      "metadata": {
        "id": "pDvBjbFFqab8",
        "colab_type": "code",
        "colab": {
          "base_uri": "https://localhost:8080/",
          "height": 85
        },
        "outputId": "38efdcab-4de1-40a3-e24f-b0faeb7030d8"
      },
      "source": [
        "input_val=[1,2,3,4]\n",
        "N=5\n",
        "CreateVanderMatrix(input_val,N)"
      ],
      "execution_count": 66,
      "outputs": [
        {
          "output_type": "stream",
          "text": [
            "[[  1.   1.   1.   1.   1.]\n",
            " [ 16.   8.   4.   2.   1.]\n",
            " [ 81.  27.   9.   3.   1.]\n",
            " [256.  64.  16.   4.   1.]]\n"
          ],
          "name": "stdout"
        }
      ]
    },
    {
      "cell_type": "code",
      "metadata": {
        "id": "-k3DV6fDs4rb",
        "colab_type": "code",
        "colab": {}
      },
      "source": [
        ""
      ],
      "execution_count": 0,
      "outputs": []
    }
  ]
}