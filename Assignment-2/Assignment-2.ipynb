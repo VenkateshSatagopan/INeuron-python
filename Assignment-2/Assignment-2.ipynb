{
  "nbformat": 4,
  "nbformat_minor": 0,
  "metadata": {
    "colab": {
      "name": "Untitled20.ipynb",
      "provenance": []
    },
    "kernelspec": {
      "name": "python3",
      "display_name": "Python 3"
    }
  },
  "cells": [
    {
      "cell_type": "markdown",
      "metadata": {
        "id": "qYxBCDMgvcP3",
        "colab_type": "text"
      },
      "source": [
        "\n",
        "Write a Python Program to implement your own myreduce() function which works exactly like\n",
        "Python's built-in function reduce()\n",
        "\n",
        "\n",
        "\n"
      ]
    },
    {
      "cell_type": "code",
      "metadata": {
        "id": "OkNY9m25vJy4",
        "colab_type": "code",
        "colab": {}
      },
      "source": [
        "def ReduceFunction(func=None,list_val=None):\n",
        "  iter_range=len(list_val)\n",
        "  temp=list_val[0]\n",
        "  for val in range(1,iter_range):\n",
        "     temp=func(temp,list_val[val])\n",
        "\n",
        "  return temp"
      ],
      "execution_count": 0,
      "outputs": []
    },
    {
      "cell_type": "code",
      "metadata": {
        "id": "3Cruu_QXwfWP",
        "colab_type": "code",
        "colab": {}
      },
      "source": [
        "def SumFunc(x1,x2):\n",
        "  return x1+x2"
      ],
      "execution_count": 0,
      "outputs": []
    },
    {
      "cell_type": "code",
      "metadata": {
        "id": "KldGVxlXwmV9",
        "colab_type": "code",
        "colab": {}
      },
      "source": [
        "def PowerFunc(x1,x2):\n",
        "  return x2**x1"
      ],
      "execution_count": 0,
      "outputs": []
    },
    {
      "cell_type": "code",
      "metadata": {
        "id": "KfZf0n3TwvIO",
        "colab_type": "code",
        "colab": {}
      },
      "source": [
        "value=ReduceFunction(SumFunc,[1,2,3,4,5])"
      ],
      "execution_count": 0,
      "outputs": []
    },
    {
      "cell_type": "code",
      "metadata": {
        "id": "PyTHtj1Dw3gi",
        "colab_type": "code",
        "colab": {
          "base_uri": "https://localhost:8080/",
          "height": 34
        },
        "outputId": "86cfc02c-43b7-42fe-b477-2f7f00e343ca"
      },
      "source": [
        "print(value)"
      ],
      "execution_count": 40,
      "outputs": [
        {
          "output_type": "stream",
          "text": [
            "15\n"
          ],
          "name": "stdout"
        }
      ]
    },
    {
      "cell_type": "code",
      "metadata": {
        "id": "pPhQUxu6w_Zc",
        "colab_type": "code",
        "colab": {}
      },
      "source": [
        "value=ReduceFunction(PowerFunc,[1,2,3])"
      ],
      "execution_count": 0,
      "outputs": []
    },
    {
      "cell_type": "code",
      "metadata": {
        "id": "xyPzUyeoxDzo",
        "colab_type": "code",
        "colab": {
          "base_uri": "https://localhost:8080/",
          "height": 34
        },
        "outputId": "cc6e76ff-f474-4e07-ddb4-3ad8b348db4c"
      },
      "source": [
        "print(value)"
      ],
      "execution_count": 42,
      "outputs": [
        {
          "output_type": "stream",
          "text": [
            "9\n"
          ],
          "name": "stdout"
        }
      ]
    },
    {
      "cell_type": "markdown",
      "metadata": {
        "id": "BwuYBr9Qx7wd",
        "colab_type": "text"
      },
      "source": [
        "1.2 Write a Python program to implement your own myfilter() function which works exactly\n",
        "like Python's built-in function filter()"
      ]
    },
    {
      "cell_type": "code",
      "metadata": {
        "id": "-rII6S3UxFCw",
        "colab_type": "code",
        "colab": {}
      },
      "source": [
        "def FilterFunc(func,list_val):\n",
        "   \n",
        "   x=func(list_val)\n",
        "\n",
        "   return x"
      ],
      "execution_count": 0,
      "outputs": []
    },
    {
      "cell_type": "code",
      "metadata": {
        "id": "8TbnvNB3yzXr",
        "colab_type": "code",
        "colab": {}
      },
      "source": [
        "def GetEvenNumbers(list_val):\n",
        "  return [x for x in list_val if x%2==0]"
      ],
      "execution_count": 0,
      "outputs": []
    },
    {
      "cell_type": "code",
      "metadata": {
        "id": "s8x_IZ0-za02",
        "colab_type": "code",
        "colab": {}
      },
      "source": [
        "def GetOddNumbers(list_val):\n",
        "  return [x for x in list_val if not(x%2==0)]"
      ],
      "execution_count": 0,
      "outputs": []
    },
    {
      "cell_type": "code",
      "metadata": {
        "id": "Kyp-6-ZazOF6",
        "colab_type": "code",
        "colab": {}
      },
      "source": [
        "val=FilterFunc(GetEvenNumbers,[1,2,3,4,5,6])"
      ],
      "execution_count": 0,
      "outputs": []
    },
    {
      "cell_type": "code",
      "metadata": {
        "id": "2ead1xwgzQMw",
        "colab_type": "code",
        "colab": {
          "base_uri": "https://localhost:8080/",
          "height": 34
        },
        "outputId": "c20b50a1-0eb0-4cd7-c112-dffa72e01091"
      },
      "source": [
        "val"
      ],
      "execution_count": 47,
      "outputs": [
        {
          "output_type": "execute_result",
          "data": {
            "text/plain": [
              "[2, 4, 6]"
            ]
          },
          "metadata": {
            "tags": []
          },
          "execution_count": 47
        }
      ]
    },
    {
      "cell_type": "code",
      "metadata": {
        "id": "AuRBdzhKzZTb",
        "colab_type": "code",
        "colab": {}
      },
      "source": [
        "val=FilterFunc(GetOddNumbers,[1,2,3,4,5,6])"
      ],
      "execution_count": 0,
      "outputs": []
    },
    {
      "cell_type": "code",
      "metadata": {
        "id": "iwMCK9P0zrPd",
        "colab_type": "code",
        "colab": {
          "base_uri": "https://localhost:8080/",
          "height": 34
        },
        "outputId": "db6c6d1d-a6e0-491f-d119-aca5186c1f35"
      },
      "source": [
        "val"
      ],
      "execution_count": 49,
      "outputs": [
        {
          "output_type": "execute_result",
          "data": {
            "text/plain": [
              "[1, 3, 5]"
            ]
          },
          "metadata": {
            "tags": []
          },
          "execution_count": 49
        }
      ]
    },
    {
      "cell_type": "markdown",
      "metadata": {
        "id": "V8wOp_j6z3t0",
        "colab_type": "text"
      },
      "source": [
        "Implement List comprehensions to produce the following lists.\n",
        "Write List comprehensions to produce the following Lists"
      ]
    },
    {
      "cell_type": "code",
      "metadata": {
        "id": "mFW7Knqtzr51",
        "colab_type": "code",
        "colab": {
          "base_uri": "https://localhost:8080/",
          "height": 34
        },
        "outputId": "bff096ce-8b87-4182-e6ad-f28da248ac63"
      },
      "source": [
        "print([i for i in 'ACADGILD'])\n"
      ],
      "execution_count": 50,
      "outputs": [
        {
          "output_type": "stream",
          "text": [
            "['A', 'C', 'A', 'D', 'G', 'I', 'L', 'D']\n"
          ],
          "name": "stdout"
        }
      ]
    },
    {
      "cell_type": "code",
      "metadata": {
        "id": "ub-K_KcJ0NXM",
        "colab_type": "code",
        "colab": {
          "base_uri": "https://localhost:8080/",
          "height": 34
        },
        "outputId": "3e09dde8-13fe-4ff4-959f-eaaf586bbc26"
      },
      "source": [
        "N=4\n",
        "input_val='xyz'\n",
        "print([j*i for i in range(1,N+1)  for j in input_val])\n"
      ],
      "execution_count": 51,
      "outputs": [
        {
          "output_type": "stream",
          "text": [
            "['x', 'y', 'z', 'xx', 'yy', 'zz', 'xxx', 'yyy', 'zzz', 'xxxx', 'yyyy', 'zzzz']\n"
          ],
          "name": "stdout"
        }
      ]
    },
    {
      "cell_type": "code",
      "metadata": {
        "id": "H-cjO5vg0mgz",
        "colab_type": "code",
        "colab": {
          "base_uri": "https://localhost:8080/",
          "height": 34
        },
        "outputId": "05270224-84a3-498c-e3b2-6fff4d45e67a"
      },
      "source": [
        "N=4\n",
        "input_val='xyz'\n",
        "print([j*i for j in input_val for i in range(1,N+1)])\n"
      ],
      "execution_count": 52,
      "outputs": [
        {
          "output_type": "stream",
          "text": [
            "['x', 'xx', 'xxx', 'xxxx', 'y', 'yy', 'yyy', 'yyyy', 'z', 'zz', 'zzz', 'zzzz']\n"
          ],
          "name": "stdout"
        }
      ]
    },
    {
      "cell_type": "code",
      "metadata": {
        "id": "NtE7q8MG0898",
        "colab_type": "code",
        "colab": {
          "base_uri": "https://localhost:8080/",
          "height": 34
        },
        "outputId": "da7bf4de-6b9e-412c-bd36-5879bd1662e6"
      },
      "source": [
        "print([[j] for i in range(2,5) for j in range(i,i+3)])"
      ],
      "execution_count": 55,
      "outputs": [
        {
          "output_type": "stream",
          "text": [
            "[[2], [3], [4], [3], [4], [5], [4], [5], [6]]\n"
          ],
          "name": "stdout"
        }
      ]
    },
    {
      "cell_type": "code",
      "metadata": {
        "id": "mhGIfCvMbKKO",
        "colab_type": "code",
        "colab": {
          "base_uri": "https://localhost:8080/",
          "height": 34
        },
        "outputId": "71f023cc-b160-4147-dd22-178aeee766c5"
      },
      "source": [
        "print([[j for j in range(i,i+4)] for i in range(2,5) ])"
      ],
      "execution_count": 58,
      "outputs": [
        {
          "output_type": "stream",
          "text": [
            "[[2, 3, 4, 5], [3, 4, 5, 6], [4, 5, 6, 7]]\n"
          ],
          "name": "stdout"
        }
      ]
    },
    {
      "cell_type": "code",
      "metadata": {
        "id": "fnzT-IJsbK8z",
        "colab_type": "code",
        "colab": {
          "base_uri": "https://localhost:8080/",
          "height": 34
        },
        "outputId": "aa9fcad7-caee-4c77-a1a4-6616ca580e55"
      },
      "source": [
        "print([(j,i) for i in range(1,4) for j in range(1,4)])"
      ],
      "execution_count": 59,
      "outputs": [
        {
          "output_type": "stream",
          "text": [
            "[(1, 1), (2, 1), (3, 1), (1, 2), (2, 2), (3, 2), (1, 3), (2, 3), (3, 3)]\n"
          ],
          "name": "stdout"
        }
      ]
    },
    {
      "cell_type": "markdown",
      "metadata": {
        "id": "Zk2b6rd3eeRw",
        "colab_type": "text"
      },
      "source": [
        "Implement a function longestWord() that takes a list of words and returns the longest one."
      ]
    },
    {
      "cell_type": "code",
      "metadata": {
        "id": "fnyRoSlWeQyk",
        "colab_type": "code",
        "colab": {}
      },
      "source": [
        "def LongestWord(list_val=None):\n",
        "  if len(list_val)==0:\n",
        "    return -1\n",
        "  else:\n",
        "    long_word=list_val[0]\n",
        "    for val in list_val[1:]:\n",
        "      if len(long_word) < len(val):\n",
        "        long_word=val\n",
        "    return long_word"
      ],
      "execution_count": 0,
      "outputs": []
    },
    {
      "cell_type": "code",
      "metadata": {
        "id": "j-tcCe0ueyga",
        "colab_type": "code",
        "colab": {
          "base_uri": "https://localhost:8080/",
          "height": 34
        },
        "outputId": "3f12257d-1716-488b-dc9a-36882c8e2425"
      },
      "source": [
        "list_val=['aaa','bbbbb','cc']\n",
        "val=LongestWord(list_val)\n",
        "val"
      ],
      "execution_count": 76,
      "outputs": [
        {
          "output_type": "execute_result",
          "data": {
            "text/plain": [
              "'bbbbb'"
            ]
          },
          "metadata": {
            "tags": []
          },
          "execution_count": 76
        }
      ]
    },
    {
      "cell_type": "markdown",
      "metadata": {
        "id": "pixKflYBgoPe",
        "colab_type": "text"
      },
      "source": [
        "Code returns the first longest word in case of 2 words with same length"
      ]
    },
    {
      "cell_type": "code",
      "metadata": {
        "id": "lh4bX9IOe8Zs",
        "colab_type": "code",
        "colab": {
          "base_uri": "https://localhost:8080/",
          "height": 34
        },
        "outputId": "36835b61-5f30-4869-8854-1a4a02c31596"
      },
      "source": [
        "list_val=['aaaaa','bbbb','bb']\n",
        "val=LongestWord(list_val)\n",
        "val"
      ],
      "execution_count": 77,
      "outputs": [
        {
          "output_type": "execute_result",
          "data": {
            "text/plain": [
              "'aaaaa'"
            ]
          },
          "metadata": {
            "tags": []
          },
          "execution_count": 77
        }
      ]
    },
    {
      "cell_type": "code",
      "metadata": {
        "id": "e6FYSZ3Rgmow",
        "colab_type": "code",
        "colab": {
          "base_uri": "https://localhost:8080/",
          "height": 34
        },
        "outputId": "694d8f7b-8585-42bb-ab28-b038da24d609"
      },
      "source": [
        "list_val=['aa','bbbb','bbccccc']\n",
        "val=LongestWord(list_val)\n",
        "val"
      ],
      "execution_count": 78,
      "outputs": [
        {
          "output_type": "execute_result",
          "data": {
            "text/plain": [
              "'bbccccc'"
            ]
          },
          "metadata": {
            "tags": []
          },
          "execution_count": 78
        }
      ]
    },
    {
      "cell_type": "markdown",
      "metadata": {
        "id": "BgZ22m8ZhAu9",
        "colab_type": "text"
      },
      "source": [
        "Write a Python Program(with class concepts) to find the area of the triangle using the below\n",
        "formula.\n",
        "area = (s*(s-a)*(s-b)*(s-c)) ** 0.5\n",
        "Function to take the length of the sides of triangle from user should be defined in the parent\n",
        "class and function to calculate the area should be defined in subclass.\n"
      ]
    },
    {
      "cell_type": "code",
      "metadata": {
        "id": "1qZUAg2Ug38w",
        "colab_type": "code",
        "colab": {}
      },
      "source": [
        "class Base:\n",
        "  def __init__(self,side_length):\n",
        "    self.side_length=side_length\n",
        "\n",
        "class Triangle(Base):\n",
        "  def __init__(self,sides):\n",
        "     Base.__init__(self,len(sides))\n",
        "     self.sides=sides\n",
        "\n",
        "  def calculate_area(self):\n",
        "    a,b,c=self.sides\n",
        "    s=(a+b+c)/2\n",
        "    return (s*(s-a)*(s-b)*(s-c))*0.5\n"
      ],
      "execution_count": 0,
      "outputs": []
    },
    {
      "cell_type": "code",
      "metadata": {
        "id": "7NhrYNJmhPG2",
        "colab_type": "code",
        "colab": {}
      },
      "source": [
        "obj=Triangle([5,7,8])"
      ],
      "execution_count": 0,
      "outputs": []
    },
    {
      "cell_type": "code",
      "metadata": {
        "id": "pT7MgjiclMh9",
        "colab_type": "code",
        "colab": {
          "base_uri": "https://localhost:8080/",
          "height": 34
        },
        "outputId": "bc7f9eb4-8877-487f-e829-dfa9efcd35a7"
      },
      "source": [
        "print(\"Area of the triangle is {}\".format(obj.calculate_area()))"
      ],
      "execution_count": 85,
      "outputs": [
        {
          "output_type": "stream",
          "text": [
            "Area of the triangle is 150.0\n"
          ],
          "name": "stdout"
        }
      ]
    },
    {
      "cell_type": "markdown",
      "metadata": {
        "id": "2MXqClQclc0H",
        "colab_type": "text"
      },
      "source": [
        "Write a function filter_long_words() that takes a list of words and an integer n and returns the list\n",
        "of words that are longer than n.\n"
      ]
    },
    {
      "cell_type": "code",
      "metadata": {
        "id": "1icdIQBMlPX_",
        "colab_type": "code",
        "colab": {}
      },
      "source": [
        "def FilterLongwords(list_val,n):\n",
        "  return [val for val in list_val if len(val)>n]"
      ],
      "execution_count": 0,
      "outputs": []
    },
    {
      "cell_type": "code",
      "metadata": {
        "id": "9K2a8xTYluLc",
        "colab_type": "code",
        "colab": {
          "base_uri": "https://localhost:8080/",
          "height": 34
        },
        "outputId": "9feb820d-5915-4ef8-eb91-5582f612cf41"
      },
      "source": [
        "print(FilterLongwords(['aa','bbbbbb','cccccc'],1))"
      ],
      "execution_count": 88,
      "outputs": [
        {
          "output_type": "stream",
          "text": [
            "['aa', 'bbbbbb', 'cccccc']\n"
          ],
          "name": "stdout"
        }
      ]
    },
    {
      "cell_type": "markdown",
      "metadata": {
        "id": "7AZYyx2umFfw",
        "colab_type": "text"
      },
      "source": [
        "Write a Python program using function concept that maps list of words into a list of integers\n",
        "representing the lengths of the corresponding words."
      ]
    },
    {
      "cell_type": "code",
      "metadata": {
        "id": "S9ouKdAml2nY",
        "colab_type": "code",
        "colab": {
          "base_uri": "https://localhost:8080/",
          "height": 34
        },
        "outputId": "aaf28ec0-c5b7-412d-c502-b5f4d0af4509"
      },
      "source": [
        "def LengthCalculation(val):\n",
        "  return len(val)\n",
        "\n",
        "print(list(map(LengthCalculation, ['ab','cde','erty'])))"
      ],
      "execution_count": 94,
      "outputs": [
        {
          "output_type": "stream",
          "text": [
            "[2, 3, 4]\n"
          ],
          "name": "stdout"
        }
      ]
    },
    {
      "cell_type": "markdown",
      "metadata": {
        "id": "E2oXXcOsnMSa",
        "colab_type": "text"
      },
      "source": [
        "Write a Python function which takes a character (i.e. a string of length 1) and returns True if it is\n",
        "a vowel, False otherwise."
      ]
    },
    {
      "cell_type": "code",
      "metadata": {
        "id": "jR8mZRo9mu3K",
        "colab_type": "code",
        "colab": {}
      },
      "source": [
        "val=lambda x: True if x.lower() in 'aeiou' else False"
      ],
      "execution_count": 0,
      "outputs": []
    },
    {
      "cell_type": "code",
      "metadata": {
        "id": "J3tBvLiomvyM",
        "colab_type": "code",
        "colab": {
          "base_uri": "https://localhost:8080/",
          "height": 34
        },
        "outputId": "da4710a7-c908-4a6c-c286-e105b342117e"
      },
      "source": [
        "val('a')"
      ],
      "execution_count": 96,
      "outputs": [
        {
          "output_type": "execute_result",
          "data": {
            "text/plain": [
              "True"
            ]
          },
          "metadata": {
            "tags": []
          },
          "execution_count": 96
        }
      ]
    },
    {
      "cell_type": "code",
      "metadata": {
        "id": "N0JGCTK_nzBI",
        "colab_type": "code",
        "colab": {
          "base_uri": "https://localhost:8080/",
          "height": 34
        },
        "outputId": "b5b09949-27d5-4c57-bd14-cd4672f6a236"
      },
      "source": [
        "val('b')"
      ],
      "execution_count": 97,
      "outputs": [
        {
          "output_type": "execute_result",
          "data": {
            "text/plain": [
              "False"
            ]
          },
          "metadata": {
            "tags": []
          },
          "execution_count": 97
        }
      ]
    },
    {
      "cell_type": "code",
      "metadata": {
        "id": "btjAFRfun0QI",
        "colab_type": "code",
        "colab": {
          "base_uri": "https://localhost:8080/",
          "height": 34
        },
        "outputId": "d91acb11-ba7e-4894-a2c8-8c8a375f8864"
      },
      "source": [
        "val('e')"
      ],
      "execution_count": 98,
      "outputs": [
        {
          "output_type": "execute_result",
          "data": {
            "text/plain": [
              "True"
            ]
          },
          "metadata": {
            "tags": []
          },
          "execution_count": 98
        }
      ]
    },
    {
      "cell_type": "code",
      "metadata": {
        "id": "u-vQIXTtn2R6",
        "colab_type": "code",
        "colab": {}
      },
      "source": [
        ""
      ],
      "execution_count": 0,
      "outputs": []
    }
  ]
}